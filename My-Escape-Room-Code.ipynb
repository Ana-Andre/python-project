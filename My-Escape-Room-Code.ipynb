{
 "cells": [
  {
   "cell_type": "code",
   "execution_count": 62,
   "metadata": {},
   "outputs": [
    {
     "name": "stdout",
     "output_type": "stream",
     "text": [
      "What would you like to do?\n",
      " Maybe there is a way to get out for this room \n",
      "    Press 1 to Panic or 2 to Explore the room.1\n",
      "A monster enters the room and eats you. \n",
      " GAME OVER\n",
      "Do you wish to try again? [y/n]n\n",
      "Bye!\n"
     ]
    }
   ],
   "source": [
    "def escape ():\n",
    "    \n",
    "    # define rooms and items\n",
    "\n",
    "    game_room = {\"objects\": [\"Couch\", \"Piano\", \"Door A\"]}\n",
    "    \n",
    "    #print(\"You wake up on a couch and find yourself in a strange house\\\n",
    "    #with no windows which you have never been to before.\\\n",
    "    #You don't remember why you are here and what had happened before.\\\n",
    "    #You feel some unknown danger is approaching and you must get out of the house, NOW!\\\n",
    "    #\\n\\\n",
    "    #You are now in game room.\"\n",
    "    \n",
    "    while True:\n",
    "        op1 = int(input(\"What would you like to do?\\n Maybe there is a way to get out for this room \\n\\\n",
    "    Press 1 to Panic or 2 to Explore the room.\"))\n",
    "        if op1 == 1:\n",
    "            print(\"A monster enters the room and eats you. \\n GAME OVER\")\n",
    "            \n",
    "            while True:\n",
    "                panic = str(input(\"Do you wish to try again? [y/n]\"))\n",
    "                panic = panic.lower()\n",
    "                if panic == \"y\":\n",
    "                    break\n",
    "                elif panic == \"n\":\n",
    "                    break\n",
    "                else:\n",
    "                    print(f\"Sorry, I don't understand {panic}. Can you please try again?\")\n",
    "                    continue\n",
    "                continue\n",
    "            if panic == \"n\":\n",
    "                return (\"Bye!\")\n",
    "                break\n",
    "                                \n",
    "        elif op1 == 2:\n",
    "            return (\"You explore the room. This is Game Room. You find couch, piano, and Door A.\")\n",
    "            break\n",
    "        \n",
    "        else:\n",
    "            continue\n",
    "    \n",
    "    #Exploring Game Room\n",
    "    \n",
    "    \n",
    "        \n",
    "    \n",
    "print(escape())\n",
    "    "
   ]
  },
  {
   "cell_type": "code",
   "execution_count": null,
   "metadata": {},
   "outputs": [],
   "source": []
  }
 ],
 "metadata": {
  "kernelspec": {
   "display_name": "Python 3",
   "language": "python",
   "name": "python3"
  },
  "language_info": {
   "codemirror_mode": {
    "name": "ipython",
    "version": 3
   },
   "file_extension": ".py",
   "mimetype": "text/x-python",
   "name": "python",
   "nbconvert_exporter": "python",
   "pygments_lexer": "ipython3",
   "version": "3.6.8"
  }
 },
 "nbformat": 4,
 "nbformat_minor": 2
}
