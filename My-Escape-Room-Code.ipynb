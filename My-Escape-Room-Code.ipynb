{
 "cells": [
  {
   "cell_type": "code",
   "execution_count": 7,
   "metadata": {},
   "outputs": [
    {
     "ename": "SyntaxError",
     "evalue": "invalid syntax (<ipython-input-7-f410d4374e41>, line 9)",
     "output_type": "error",
     "traceback": [
      "\u001b[0;36m  File \u001b[0;32m\"<ipython-input-7-f410d4374e41>\"\u001b[0;36m, line \u001b[0;32m9\u001b[0m\n\u001b[0;31m    while True:\u001b[0m\n\u001b[0m        ^\u001b[0m\n\u001b[0;31mSyntaxError\u001b[0m\u001b[0;31m:\u001b[0m invalid syntax\n"
     ]
    }
   ],
   "source": [
    "def inicial_monster ():\n",
    "\n",
    "    while True:\n",
    "        op1 = int(input(\"What would you like to do?\\n Maybe there is a way to get out for this room \\n Press 1 to Panic or 2 to Explore the room.\"))\n",
    "        if op1 == 1:\n",
    "            print(\"A monster enters the room and eats you. \\n GAME OVER\")\n",
    "            \n",
    "            while True:\n",
    "                panic = str(input(\"Do you wish to try again? [y/n]\"))\n",
    "                panic = panic.lower()\n",
    "                if panic == \"y\":\n",
    "                    break\n",
    "                elif panic == \"n\":\n",
    "                    break\n",
    "                else:\n",
    "                    print(f\"Sorry, I don't understand {panic}. Can you please try again?\")\n",
    "                    continue\n",
    "                continue\n",
    "            if panic == \"n\":\n",
    "                return (\"Bye!\")\n",
    "                break\n",
    "                                \n",
    "        elif op1 == 2:\n",
    "            return \"You explore the room. This is Game Room. You find\", list(game_room.get(\"objects\"))\n",
    "            break\n",
    "        \n",
    "        else:\n",
    "            continue\n",
    "    \n",
    "    #Exploring Game Room\n",
    "    \n",
    "    \n",
    "        \n",
    "    \n",
    "print(inicial_monster())\n",
    "    "
   ]
  },
  {
   "cell_type": "code",
   "execution_count": null,
   "metadata": {},
   "outputs": [],
   "source": []
  }
 ],
 "metadata": {
  "kernelspec": {
   "display_name": "Python 3",
   "language": "python",
   "name": "python3"
  },
  "language_info": {
   "codemirror_mode": {
    "name": "ipython",
    "version": 3
   },
   "file_extension": ".py",
   "mimetype": "text/x-python",
   "name": "python",
   "nbconvert_exporter": "python",
   "pygments_lexer": "ipython3",
   "version": "3.6.8"
  }
 },
 "nbformat": 4,
 "nbformat_minor": 2
}
